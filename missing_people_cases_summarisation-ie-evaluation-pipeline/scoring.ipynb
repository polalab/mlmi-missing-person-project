{
 "cells": [
  {
   "cell_type": "code",
   "execution_count": null,
   "id": "5ff30b93",
   "metadata": {},
   "outputs": [],
   "source": [
    "import pandas as pd\n",
    "from utils.ask_open_ai import ask_open_ai\n",
    "import ast\n",
    "\n",
    "\n",
    "mp_df = pd.read_csv(\"DATA/fake_mp_data.csv\")\n",
    "vp_df = pd.read_csv(\"DATA/fake_vp_data.csv\")\n",
    "mp_df = mp_df[mp_df['misperid']==misperid]\n",
    "vp_df = vp_df[vp_df['misper_misperid']==misperid]"
   ]
  },
  {
   "cell_type": "code",
   "execution_count": 2,
   "id": "84e8cfea",
   "metadata": {},
   "outputs": [
    {
     "name": "stdout",
     "output_type": "stream",
     "text": [
      "Bradley Lewis, friends, caregivers, family\n",
      "\n",
      "Norwich, unfamiliar settings, community, familiar places\n",
      "{'exact_matches': ['friends', 'Bradley Lewis', 'family', 'police'], 'partial_matches': [{'entity': 'family members', 'found_parts': ['family'], 'missing_parts': ['members'], 'contexts': ['family: ...traced by family or police...']}, {'entity': 'friend of the family', 'found_parts': ['family'], 'missing_parts': ['friend', 'the'], 'contexts': ['family: ...traced by family or police...']}, {'entity': 'family friend', 'found_parts': ['family'], 'missing_parts': ['friend'], 'contexts': ['family: ...traced by family or police...']}, {'entity': 'Ruth Lewis', 'found_parts': ['lewis'], 'missing_parts': ['ruth'], 'contexts': ['lewis: ...: bradley lewis** **profi...']}, {'entity': 'friend', 'found_parts': ['friend'], 'contexts': ['ported by friends and care', 'to visit friends or famil']}, {'entity': 'caregiver', 'found_parts': ['caregiver'], 'contexts': ['iends and caregivers. **missi']}], 'missing': ['neighbor', 'Jane Thompson', 'Emily Turner', 'Dr. Smith', 'Officer Thompson', 'Angela Moore', 'local resident', 'Nurse Sam Clark', 'Richard Davis', 'shop owner', 'witnesses', 'Jane Henderson', 'James McAllister', 'witness', 'Mark Jenkins', 'daughter', 'Charles Graham', 'Michael Thomson', 'support staff', 'Mr. Turner', 'John Turner', 'Emma Clarkson', 'Mitch Hamilton', 'Robert Harris', 'authorities', 'Officer Smith', 'Maria', 'Maya', 'neighbors', 'Dr. Henry', 'Alice Thompson', 'George Morris', 'café staff', 'Jane Doe', 'officers', 'Linda O’Connor', 'Susan Davis', 'Alex Foster', 'Nancy Andrews', 'staff', 'Susan Greene', 'Emily Carter', 'neighbour', 'Officer Linda Tran', 'passerby', 'Emily', 'Mrs. Thompson', 'Alex', 'Jane', 'Sarah Mason', 'Mrs. Henderson', 'Jenna Hart', 'Henry Clarke', 'Mrs. Taylor', 'old friend', 'Grace Thompson', 'Emily Kerr', 'Mrs. Anderson', 'passing jogger', 'Mr. Johnson', 'Heather Walters', 'local shopkeeper', 'Charlie King', 'Emma'], 'counts': {'exact': 4, 'partial': 6, 'missing': 64, 'total': 74}, 'coverage_percentage': 13.51}\n"
     ]
    }
   ],
   "source": [
    "from scoring import score\n",
    "with open(\"summaries/test_gpt_4o_summary.txt\") as f:\n",
    "    summary = f.read()\n",
    "res, res1, res_fu = score(5520, \"DATA/fake_mp_data.csv\", \"DATA/fake_vp_data.csv\", summary)"
   ]
  },
  {
   "cell_type": "code",
   "execution_count": 3,
   "id": "c69e783e",
   "metadata": {},
   "outputs": [
    {
     "data": {
      "text/plain": [
       "{'accuracy': 0.03937007874015748,\n",
       " 'total_potential_accuracy': 0.11811023622047244,\n",
       " 'people_accuracy': 0.05405405405405406,\n",
       " 'locations_accuracy': 0.018867924528301886}"
      ]
     },
     "execution_count": 3,
     "metadata": {},
     "output_type": "execute_result"
    }
   ],
   "source": [
    "res"
   ]
  }
 ],
 "metadata": {
  "kernelspec": {
   "display_name": "venv",
   "language": "python",
   "name": "python3"
  },
  "language_info": {
   "codemirror_mode": {
    "name": "ipython",
    "version": 3
   },
   "file_extension": ".py",
   "mimetype": "text/x-python",
   "name": "python",
   "nbconvert_exporter": "python",
   "pygments_lexer": "ipython3",
   "version": "3.9.21"
  }
 },
 "nbformat": 4,
 "nbformat_minor": 5
}
